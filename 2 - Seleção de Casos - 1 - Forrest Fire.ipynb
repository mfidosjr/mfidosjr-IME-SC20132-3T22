{
 "cells": [
  {
   "cell_type": "markdown",
   "id": "31848e18",
   "metadata": {},
   "source": [
    "### Seleção de casos"
   ]
  },
  {
   "cell_type": "markdown",
   "id": "ca21c34a",
   "metadata": {},
   "source": [
    "### Caso 1 - Forrest Fire (Portugal) prediction using SVR, Random Forest, and Deep NN\n",
    "\n",
    "Este trabalho compara 4 métodos distintos de IA para predição de incêncidos em florestas utilizando dados metereológicos:\n",
    " - a) support vector regression\n",
    " - b) decision tree\n",
    " - c) random forest\n",
    " - d) 3-layer dense neural network\n",
    "\n",
    "Este é um problema de regressão muito difícil e com problemas de outliers.\n",
    "    - Este conjunto de dados é público\n",
    "    - P. Cortez and A. Morais. *A Data Mining Approach to Predict Forest Fires using Meteorological Data.* In J. Neves, M. F. Santos and J. Machado Eds., New Trends in Artificial Intelligence, Proceedings of the 13th EPIA 2007 - Portuguese Conference on Artificial Intelligence, December, Guimaraes, Portugal, pp. 512-523, 2007. APPIA, ISBN-13 978-989-95618-0-9.\n",
    "\n",
    "    - Acesso em 24.nov.22: http://www.dsi.uminho.pt/~pcortez/fires.pdf\n",
    "    - Acesso em 24.nov.22: [Cortez and Morais, 2007].\n",
    "    \n",
    "Metadados:\n",
    "- X - x-axis spatial coordinate within the Montesinho park map: 1 to 9\n",
    "- Y - y-axis spatial coordinate within the Montesinho park map: 2 to 9\n",
    "- month - month of the year: \"jan\" to \"dec\"\n",
    "- day - day of the week: \"mon\" to \"sun\"\n",
    "- FFMC - FFMC index from the FWI system: 18.7 to 96.20\n",
    "- DMC - DMC index from the FWI system: 1.1 to 291.3\n",
    "- DC - DC index from the FWI system: 7.9 to 860.6\n",
    "- ISI - ISI index from the FWI system: 0.0 to 56.10\n",
    "- temp - temperature in Celsius degrees: 2.2 to 33.30\n",
    "- RH - relative humidity in %: 15.0 to 100\n",
    "- wind - wind speed in km/h: 0.40 to 9.40\n",
    "- rain - outside rain in mm/m2 : 0.0 to 6.4\n",
    "- area - the burned area of the forest (in ha): 0.00 to 1090.84"
   ]
  },
  {
   "cell_type": "markdown",
   "id": "0dddb772",
   "metadata": {},
   "source": [
    "http://www.dsi.uminho.pt/~pcortez/fires.pdf"
   ]
  },
  {
   "cell_type": "code",
   "execution_count": 1,
   "id": "d176670d",
   "metadata": {},
   "outputs": [],
   "source": [
    "#Bibliotecas utilizadas\n",
    "import numpy as np\n",
    "import pandas as pd\n",
    "import matplotlib.pyplot as plt\n",
    "\n",
    "from sklearn.model_selection import train_test_split\n",
    "from sklearn.preprocessing import OneHotEncoder\n",
    "from sklearn.preprocessing import LabelEncoder\n",
    "from sklearn.svm import SVR\n",
    "\n",
    "from sklearn.preprocessing import StandardScaler\n",
    "from sklearn.model_selection import GridSearchCV\n",
    "\n",
    "from sklearn.tree import DecisionTreeRegressor\n",
    "\n",
    "### pip install --upgrade scikit-learn\n",
    "%matplotlib inline"
   ]
  },
  {
   "cell_type": "code",
   "execution_count": 2,
   "id": "1fa31c7d",
   "metadata": {},
   "outputs": [],
   "source": [
    "import warnings \n",
    "warnings.filterwarnings(\"ignore\")"
   ]
  },
  {
   "cell_type": "code",
   "execution_count": 3,
   "id": "14f6a74e",
   "metadata": {},
   "outputs": [],
   "source": [
    "# Leitura do dataset\n",
    "df = pd.read_csv('forestfires.csv')\n",
    "# Transformação da dimensão 'área' pelo seu logaritmo (depois de somar 1 para evitar zeros)\n",
    "df['Log-area']=np.log10(df['area']+1)\n",
    "# Codificação de rótulos para dimensões categóricas (dia e mês)\n",
    "# Codificação MES\n",
    "enc = LabelEncoder()\n",
    "enc.fit(df['month'])\n",
    "enc.classes_\n",
    "df['month_encoded']=enc.transform(df['month'])\n",
    "# Codificação DIA\n",
    "enc.fit(df['day'])\n",
    "enc.classes_\n",
    "df['day_encoded']=enc.transform(df['day'])\n",
    "#df.head(5)"
   ]
  },
  {
   "cell_type": "code",
   "execution_count": 66,
   "id": "3bbd2948",
   "metadata": {},
   "outputs": [
    {
     "data": {
      "text/html": [
       "<div>\n",
       "<style scoped>\n",
       "    .dataframe tbody tr th:only-of-type {\n",
       "        vertical-align: middle;\n",
       "    }\n",
       "\n",
       "    .dataframe tbody tr th {\n",
       "        vertical-align: top;\n",
       "    }\n",
       "\n",
       "    .dataframe thead th {\n",
       "        text-align: right;\n",
       "    }\n",
       "</style>\n",
       "<table border=\"1\" class=\"dataframe\">\n",
       "  <thead>\n",
       "    <tr style=\"text-align: right;\">\n",
       "      <th></th>\n",
       "      <th>X</th>\n",
       "      <th>Y</th>\n",
       "      <th>FFMC</th>\n",
       "      <th>DMC</th>\n",
       "      <th>DC</th>\n",
       "      <th>ISI</th>\n",
       "      <th>temp</th>\n",
       "      <th>RH</th>\n",
       "      <th>wind</th>\n",
       "      <th>rain</th>\n",
       "      <th>area</th>\n",
       "      <th>Log-area</th>\n",
       "      <th>month_encoded</th>\n",
       "      <th>day_encoded</th>\n",
       "    </tr>\n",
       "  </thead>\n",
       "  <tbody>\n",
       "    <tr>\n",
       "      <th>count</th>\n",
       "      <td>517.000000</td>\n",
       "      <td>517.000000</td>\n",
       "      <td>517.000000</td>\n",
       "      <td>517.000000</td>\n",
       "      <td>517.000000</td>\n",
       "      <td>517.000000</td>\n",
       "      <td>517.000000</td>\n",
       "      <td>517.000000</td>\n",
       "      <td>517.000000</td>\n",
       "      <td>517.000000</td>\n",
       "      <td>517.000000</td>\n",
       "      <td>517.000000</td>\n",
       "      <td>517.000000</td>\n",
       "      <td>517.000000</td>\n",
       "    </tr>\n",
       "    <tr>\n",
       "      <th>mean</th>\n",
       "      <td>4.669246</td>\n",
       "      <td>4.299807</td>\n",
       "      <td>90.644681</td>\n",
       "      <td>110.872340</td>\n",
       "      <td>547.940039</td>\n",
       "      <td>9.021663</td>\n",
       "      <td>18.889168</td>\n",
       "      <td>44.288201</td>\n",
       "      <td>4.017602</td>\n",
       "      <td>0.021663</td>\n",
       "      <td>12.847292</td>\n",
       "      <td>0.482512</td>\n",
       "      <td>5.758221</td>\n",
       "      <td>2.736944</td>\n",
       "    </tr>\n",
       "    <tr>\n",
       "      <th>std</th>\n",
       "      <td>2.313778</td>\n",
       "      <td>1.229900</td>\n",
       "      <td>5.520111</td>\n",
       "      <td>64.046482</td>\n",
       "      <td>248.066192</td>\n",
       "      <td>4.559477</td>\n",
       "      <td>5.806625</td>\n",
       "      <td>16.317469</td>\n",
       "      <td>1.791653</td>\n",
       "      <td>0.295959</td>\n",
       "      <td>63.655818</td>\n",
       "      <td>0.607333</td>\n",
       "      <td>4.373275</td>\n",
       "      <td>1.925061</td>\n",
       "    </tr>\n",
       "    <tr>\n",
       "      <th>min</th>\n",
       "      <td>1.000000</td>\n",
       "      <td>2.000000</td>\n",
       "      <td>18.700000</td>\n",
       "      <td>1.100000</td>\n",
       "      <td>7.900000</td>\n",
       "      <td>0.000000</td>\n",
       "      <td>2.200000</td>\n",
       "      <td>15.000000</td>\n",
       "      <td>0.400000</td>\n",
       "      <td>0.000000</td>\n",
       "      <td>0.000000</td>\n",
       "      <td>0.000000</td>\n",
       "      <td>0.000000</td>\n",
       "      <td>0.000000</td>\n",
       "    </tr>\n",
       "    <tr>\n",
       "      <th>25%</th>\n",
       "      <td>3.000000</td>\n",
       "      <td>4.000000</td>\n",
       "      <td>90.200000</td>\n",
       "      <td>68.600000</td>\n",
       "      <td>437.700000</td>\n",
       "      <td>6.500000</td>\n",
       "      <td>15.500000</td>\n",
       "      <td>33.000000</td>\n",
       "      <td>2.700000</td>\n",
       "      <td>0.000000</td>\n",
       "      <td>0.000000</td>\n",
       "      <td>0.000000</td>\n",
       "      <td>1.000000</td>\n",
       "      <td>1.000000</td>\n",
       "    </tr>\n",
       "    <tr>\n",
       "      <th>50%</th>\n",
       "      <td>4.000000</td>\n",
       "      <td>4.000000</td>\n",
       "      <td>91.600000</td>\n",
       "      <td>108.300000</td>\n",
       "      <td>664.200000</td>\n",
       "      <td>8.400000</td>\n",
       "      <td>19.300000</td>\n",
       "      <td>42.000000</td>\n",
       "      <td>4.000000</td>\n",
       "      <td>0.000000</td>\n",
       "      <td>0.520000</td>\n",
       "      <td>0.181844</td>\n",
       "      <td>6.000000</td>\n",
       "      <td>3.000000</td>\n",
       "    </tr>\n",
       "    <tr>\n",
       "      <th>75%</th>\n",
       "      <td>7.000000</td>\n",
       "      <td>5.000000</td>\n",
       "      <td>92.900000</td>\n",
       "      <td>142.400000</td>\n",
       "      <td>713.900000</td>\n",
       "      <td>10.800000</td>\n",
       "      <td>22.800000</td>\n",
       "      <td>53.000000</td>\n",
       "      <td>4.900000</td>\n",
       "      <td>0.000000</td>\n",
       "      <td>6.570000</td>\n",
       "      <td>0.879096</td>\n",
       "      <td>11.000000</td>\n",
       "      <td>4.000000</td>\n",
       "    </tr>\n",
       "    <tr>\n",
       "      <th>max</th>\n",
       "      <td>9.000000</td>\n",
       "      <td>9.000000</td>\n",
       "      <td>96.200000</td>\n",
       "      <td>291.300000</td>\n",
       "      <td>860.600000</td>\n",
       "      <td>56.100000</td>\n",
       "      <td>33.300000</td>\n",
       "      <td>100.000000</td>\n",
       "      <td>9.400000</td>\n",
       "      <td>6.400000</td>\n",
       "      <td>1090.840000</td>\n",
       "      <td>3.038159</td>\n",
       "      <td>11.000000</td>\n",
       "      <td>6.000000</td>\n",
       "    </tr>\n",
       "  </tbody>\n",
       "</table>\n",
       "</div>"
      ],
      "text/plain": [
       "                X           Y        FFMC         DMC          DC         ISI  \\\n",
       "count  517.000000  517.000000  517.000000  517.000000  517.000000  517.000000   \n",
       "mean     4.669246    4.299807   90.644681  110.872340  547.940039    9.021663   \n",
       "std      2.313778    1.229900    5.520111   64.046482  248.066192    4.559477   \n",
       "min      1.000000    2.000000   18.700000    1.100000    7.900000    0.000000   \n",
       "25%      3.000000    4.000000   90.200000   68.600000  437.700000    6.500000   \n",
       "50%      4.000000    4.000000   91.600000  108.300000  664.200000    8.400000   \n",
       "75%      7.000000    5.000000   92.900000  142.400000  713.900000   10.800000   \n",
       "max      9.000000    9.000000   96.200000  291.300000  860.600000   56.100000   \n",
       "\n",
       "             temp          RH        wind        rain         area  \\\n",
       "count  517.000000  517.000000  517.000000  517.000000   517.000000   \n",
       "mean    18.889168   44.288201    4.017602    0.021663    12.847292   \n",
       "std      5.806625   16.317469    1.791653    0.295959    63.655818   \n",
       "min      2.200000   15.000000    0.400000    0.000000     0.000000   \n",
       "25%     15.500000   33.000000    2.700000    0.000000     0.000000   \n",
       "50%     19.300000   42.000000    4.000000    0.000000     0.520000   \n",
       "75%     22.800000   53.000000    4.900000    0.000000     6.570000   \n",
       "max     33.300000  100.000000    9.400000    6.400000  1090.840000   \n",
       "\n",
       "         Log-area  month_encoded  day_encoded  \n",
       "count  517.000000     517.000000   517.000000  \n",
       "mean     0.482512       5.758221     2.736944  \n",
       "std      0.607333       4.373275     1.925061  \n",
       "min      0.000000       0.000000     0.000000  \n",
       "25%      0.000000       1.000000     1.000000  \n",
       "50%      0.181844       6.000000     3.000000  \n",
       "75%      0.879096      11.000000     4.000000  \n",
       "max      3.038159      11.000000     6.000000  "
      ]
     },
     "execution_count": 66,
     "metadata": {},
     "output_type": "execute_result"
    }
   ],
   "source": [
    "# Estatísticas descritivas\n",
    "df.describe()"
   ]
  },
  {
   "cell_type": "code",
   "execution_count": 5,
   "id": "dde74264",
   "metadata": {},
   "outputs": [],
   "source": [
    "# Representar graficamente, através de gráficos de dispersão e distribuições características\n",
    "# numéricas para ver como elas podem afetas a dimensõa \"área\"\n",
    "# for i in df.describe().columns[:-2]:\n",
    "#    df.plot.scatter(i,'Log-area',grid=True)"
   ]
  },
  {
   "cell_type": "code",
   "execution_count": 6,
   "id": "16ba1699",
   "metadata": {},
   "outputs": [],
   "source": [
    "# Plotagem de boxplots de como as características categóricas (mês e dia) afetam o resultado\n",
    "# df.boxplot(column='Log-area',by='day')"
   ]
  },
  {
   "cell_type": "code",
   "execution_count": 7,
   "id": "be508498",
   "metadata": {},
   "outputs": [],
   "source": [
    "# df.boxplot(column='Log-area',by='month')"
   ]
  },
  {
   "cell_type": "code",
   "execution_count": 8,
   "id": "1e3a2682",
   "metadata": {},
   "outputs": [],
   "source": [
    "# configuração do tamanho do conjunto-teste\n",
    "test_size=0.4"
   ]
  },
  {
   "cell_type": "code",
   "execution_count": 9,
   "id": "2066a4e6",
   "metadata": {},
   "outputs": [],
   "source": [
    "# segmentação teste-treino\n",
    "X_data=df.drop(['area','Log-area','month','day'],axis=1)\n",
    "y_data=df['Log-area']\n",
    "\n",
    "X_train, X_test, y_train, y_test = train_test_split(X_data, y_data, test_size=test_size)"
   ]
  },
  {
   "cell_type": "code",
   "execution_count": 10,
   "id": "fd3d2f06",
   "metadata": {},
   "outputs": [],
   "source": [
    "y_train=y_train.values.reshape(y_train.size,1)\n",
    "#y_train=y_train.reshape(y_train.size,1)"
   ]
  },
  {
   "cell_type": "markdown",
   "id": "a6f676e5",
   "metadata": {},
   "source": [
    "#### Parametros de comparação entre os métodos"
   ]
  },
  {
   "cell_type": "markdown",
   "id": "fbdb0e54",
   "metadata": {},
   "source": [
    "#### 1 - Regression Error Characteristic (REC) estimation\n",
    "##### Estimativa da Característica de Erro de Regressão (REC)\n",
    "- As curvas ROC (Receiver Operating Characteristic) fornecem uma ferramenta poderosa para visualizar e comparar os resultados da classificação.\n",
    "- As curvas de Característica de Erro de Regressão (REC) generalizam as curvas ROC para regressão. As curvas REC plotam a tolerância ao erro no versus a porcentagem de pontos prevista dentro da tolerância no. A curva resultante estima a função de distribuição cumulativa do erro. A curva REC apresenta visualmente estatísticas comumente usadas.\n",
    "- A área sobre a curva (AOC) é uma estimativa tendenciosa do erro esperado. O valor pode ser estimado usando a razão entre o COA para um determinado modelo e o COA para o modelo nulo.\n",
    "- Os usuários podem avaliar rapidamente os méritos relativos de muitas funções de regressão examinando a posição relativa de suas curvas REC.\n",
    "- A forma da curva revela informações adicionais que podem ser usadas para orientar a modelagem."
   ]
  },
  {
   "cell_type": "code",
   "execution_count": 11,
   "id": "f58be6dd",
   "metadata": {},
   "outputs": [],
   "source": [
    "def rec(m,n,tol):\n",
    "    if type(m)!='numpy.ndarray':\n",
    "        m=np.array(m)\n",
    "    if type(n)!='numpy.ndarray':\n",
    "        n=np.array(n)\n",
    "    l=m.size\n",
    "    percent = 0\n",
    "    for i in range(l):\n",
    "        if np.abs(10**m[i]-10**n[i])<=tol:\n",
    "            percent+=1\n",
    "    return 100*(percent/l)"
   ]
  },
  {
   "cell_type": "code",
   "execution_count": 12,
   "id": "ac0c0e20",
   "metadata": {},
   "outputs": [],
   "source": [
    "# Definir o limite máximo de tolerância para o eixo x da curva REC - Para este problema, isso \n",
    "# representa o valor absoluto do erro na previsão do resultado, ou seja, a área queimada\n",
    "tol_max=20"
   ]
  },
  {
   "cell_type": "markdown",
   "id": "f204491c",
   "metadata": {},
   "source": [
    "##### Seleção de Parametros - uso da biblioteca GridSearchCV\n",
    "\n",
    "    - O Scikit-learn tem a funcionalidade de tentar diversas combinações e ver o que funciona melhor, embutido com o GridSearchCV! O CV significa validação cruzada.\n",
    "    - O GridSearchCV leva um dicionário que descreve os parâmetros que devem ser tentados e um modelo para treino.\n",
    "    - A grade de parâmetros é definida como um dicionário, onde as chaves são os parâmetros e os valores são as configurações a serem testadas."
   ]
  },
  {
   "cell_type": "markdown",
   "id": "efd053be",
   "metadata": {},
   "source": [
    "### Método 1 - Support Vector Regressor (SVR) - Regressor vetorial de suporte (SVR)\n"
   ]
  },
  {
   "cell_type": "code",
   "execution_count": 13,
   "id": "12f372a0",
   "metadata": {},
   "outputs": [],
   "source": [
    "scaler = StandardScaler()"
   ]
  },
  {
   "cell_type": "code",
   "execution_count": 14,
   "id": "86f260c2",
   "metadata": {},
   "outputs": [],
   "source": [
    "# Parameter grid for the Grid Search\n",
    "param_grid = {'C': [0.01,0.1,1, 10], 'epsilon': [10,1,0.1,0.01,0.001,0.0001], 'kernel': ['rbf']}"
   ]
  },
  {
   "cell_type": "code",
   "execution_count": 15,
   "id": "d90a82ce",
   "metadata": {},
   "outputs": [
    {
     "data": {
      "text/html": [
       "<style>#sk-container-id-1 {color: black;background-color: white;}#sk-container-id-1 pre{padding: 0;}#sk-container-id-1 div.sk-toggleable {background-color: white;}#sk-container-id-1 label.sk-toggleable__label {cursor: pointer;display: block;width: 100%;margin-bottom: 0;padding: 0.3em;box-sizing: border-box;text-align: center;}#sk-container-id-1 label.sk-toggleable__label-arrow:before {content: \"▸\";float: left;margin-right: 0.25em;color: #696969;}#sk-container-id-1 label.sk-toggleable__label-arrow:hover:before {color: black;}#sk-container-id-1 div.sk-estimator:hover label.sk-toggleable__label-arrow:before {color: black;}#sk-container-id-1 div.sk-toggleable__content {max-height: 0;max-width: 0;overflow: hidden;text-align: left;background-color: #f0f8ff;}#sk-container-id-1 div.sk-toggleable__content pre {margin: 0.2em;color: black;border-radius: 0.25em;background-color: #f0f8ff;}#sk-container-id-1 input.sk-toggleable__control:checked~div.sk-toggleable__content {max-height: 200px;max-width: 100%;overflow: auto;}#sk-container-id-1 input.sk-toggleable__control:checked~label.sk-toggleable__label-arrow:before {content: \"▾\";}#sk-container-id-1 div.sk-estimator input.sk-toggleable__control:checked~label.sk-toggleable__label {background-color: #d4ebff;}#sk-container-id-1 div.sk-label input.sk-toggleable__control:checked~label.sk-toggleable__label {background-color: #d4ebff;}#sk-container-id-1 input.sk-hidden--visually {border: 0;clip: rect(1px 1px 1px 1px);clip: rect(1px, 1px, 1px, 1px);height: 1px;margin: -1px;overflow: hidden;padding: 0;position: absolute;width: 1px;}#sk-container-id-1 div.sk-estimator {font-family: monospace;background-color: #f0f8ff;border: 1px dotted black;border-radius: 0.25em;box-sizing: border-box;margin-bottom: 0.5em;}#sk-container-id-1 div.sk-estimator:hover {background-color: #d4ebff;}#sk-container-id-1 div.sk-parallel-item::after {content: \"\";width: 100%;border-bottom: 1px solid gray;flex-grow: 1;}#sk-container-id-1 div.sk-label:hover label.sk-toggleable__label {background-color: #d4ebff;}#sk-container-id-1 div.sk-serial::before {content: \"\";position: absolute;border-left: 1px solid gray;box-sizing: border-box;top: 0;bottom: 0;left: 50%;z-index: 0;}#sk-container-id-1 div.sk-serial {display: flex;flex-direction: column;align-items: center;background-color: white;padding-right: 0.2em;padding-left: 0.2em;position: relative;}#sk-container-id-1 div.sk-item {position: relative;z-index: 1;}#sk-container-id-1 div.sk-parallel {display: flex;align-items: stretch;justify-content: center;background-color: white;position: relative;}#sk-container-id-1 div.sk-item::before, #sk-container-id-1 div.sk-parallel-item::before {content: \"\";position: absolute;border-left: 1px solid gray;box-sizing: border-box;top: 0;bottom: 0;left: 50%;z-index: -1;}#sk-container-id-1 div.sk-parallel-item {display: flex;flex-direction: column;z-index: 1;position: relative;background-color: white;}#sk-container-id-1 div.sk-parallel-item:first-child::after {align-self: flex-end;width: 50%;}#sk-container-id-1 div.sk-parallel-item:last-child::after {align-self: flex-start;width: 50%;}#sk-container-id-1 div.sk-parallel-item:only-child::after {width: 0;}#sk-container-id-1 div.sk-dashed-wrapped {border: 1px dashed gray;margin: 0 0.4em 0.5em 0.4em;box-sizing: border-box;padding-bottom: 0.4em;background-color: white;}#sk-container-id-1 div.sk-label label {font-family: monospace;font-weight: bold;display: inline-block;line-height: 1.2em;}#sk-container-id-1 div.sk-label-container {text-align: center;}#sk-container-id-1 div.sk-container {/* jupyter's `normalize.less` sets `[hidden] { display: none; }` but bootstrap.min.css set `[hidden] { display: none !important; }` so we also need the `!important` here to be able to override the default hidden behavior on the sphinx rendered scikit-learn.org. See: https://github.com/scikit-learn/scikit-learn/issues/21755 */display: inline-block !important;position: relative;}#sk-container-id-1 div.sk-text-repr-fallback {display: none;}</style><div id=\"sk-container-id-1\" class=\"sk-top-container\"><div class=\"sk-text-repr-fallback\"><pre>GridSearchCV(cv=5, estimator=SVR(),\n",
       "             param_grid={&#x27;C&#x27;: [0.01, 0.1, 1, 10],\n",
       "                         &#x27;epsilon&#x27;: [10, 1, 0.1, 0.01, 0.001, 0.0001],\n",
       "                         &#x27;kernel&#x27;: [&#x27;rbf&#x27;]})</pre><b>In a Jupyter environment, please rerun this cell to show the HTML representation or trust the notebook. <br />On GitHub, the HTML representation is unable to render, please try loading this page with nbviewer.org.</b></div><div class=\"sk-container\" hidden><div class=\"sk-item sk-dashed-wrapped\"><div class=\"sk-label-container\"><div class=\"sk-label sk-toggleable\"><input class=\"sk-toggleable__control sk-hidden--visually\" id=\"sk-estimator-id-1\" type=\"checkbox\" ><label for=\"sk-estimator-id-1\" class=\"sk-toggleable__label sk-toggleable__label-arrow\">GridSearchCV</label><div class=\"sk-toggleable__content\"><pre>GridSearchCV(cv=5, estimator=SVR(),\n",
       "             param_grid={&#x27;C&#x27;: [0.01, 0.1, 1, 10],\n",
       "                         &#x27;epsilon&#x27;: [10, 1, 0.1, 0.01, 0.001, 0.0001],\n",
       "                         &#x27;kernel&#x27;: [&#x27;rbf&#x27;]})</pre></div></div></div><div class=\"sk-parallel\"><div class=\"sk-parallel-item\"><div class=\"sk-item\"><div class=\"sk-label-container\"><div class=\"sk-label sk-toggleable\"><input class=\"sk-toggleable__control sk-hidden--visually\" id=\"sk-estimator-id-2\" type=\"checkbox\" ><label for=\"sk-estimator-id-2\" class=\"sk-toggleable__label sk-toggleable__label-arrow\">estimator: SVR</label><div class=\"sk-toggleable__content\"><pre>SVR()</pre></div></div></div><div class=\"sk-serial\"><div class=\"sk-item\"><div class=\"sk-estimator sk-toggleable\"><input class=\"sk-toggleable__control sk-hidden--visually\" id=\"sk-estimator-id-3\" type=\"checkbox\" ><label for=\"sk-estimator-id-3\" class=\"sk-toggleable__label sk-toggleable__label-arrow\">SVR</label><div class=\"sk-toggleable__content\"><pre>SVR()</pre></div></div></div></div></div></div></div></div></div></div>"
      ],
      "text/plain": [
       "GridSearchCV(cv=5, estimator=SVR(),\n",
       "             param_grid={'C': [0.01, 0.1, 1, 10],\n",
       "                         'epsilon': [10, 1, 0.1, 0.01, 0.001, 0.0001],\n",
       "                         'kernel': ['rbf']})"
      ]
     },
     "execution_count": 15,
     "metadata": {},
     "output_type": "execute_result"
    }
   ],
   "source": [
    "grid_SVR = GridSearchCV(SVR(),param_grid,refit=True,verbose=0,cv=5)\n",
    "grid_SVR.fit(scaler.fit_transform(X_train),scaler.fit_transform(y_train))"
   ]
  },
  {
   "cell_type": "code",
   "execution_count": 16,
   "id": "44b81b5a",
   "metadata": {},
   "outputs": [
    {
     "name": "stdout",
     "output_type": "stream",
     "text": [
      "Best parameters obtained by Grid Search: {'C': 0.1, 'epsilon': 1, 'kernel': 'rbf'}\n"
     ]
    }
   ],
   "source": [
    "print(\"Best parameters obtained by Grid Search:\",grid_SVR.best_params_)"
   ]
  },
  {
   "cell_type": "code",
   "execution_count": 17,
   "id": "160f02f1",
   "metadata": {},
   "outputs": [],
   "source": [
    "#plt.xlabel(\"Actual area burned\")\n",
    "#plt.ylabel(\"Error\")\n",
    "#plt.grid(True)\n",
    "#plt.scatter(10**(y_test),10**(a)-10**(y_test))"
   ]
  },
  {
   "cell_type": "code",
   "execution_count": 20,
   "id": "052697af",
   "metadata": {},
   "outputs": [
    {
     "name": "stdout",
     "output_type": "stream",
     "text": [
      "RMSE for Support Vector Regression: 0.6442588391555281\n"
     ]
    }
   ],
   "source": [
    "a=grid_SVR.predict(X_test)\n",
    "RMSE_SVR = np.sqrt(np.mean((y_test-a)**2))\n",
    "#print(\"RMSE for Support Vector Regression:\",np.sqrt(np.mean((y_test-a)**2)))\n",
    "print(\"RMSE for Support Vector Regression:\",RMSE_SVR)"
   ]
  },
  {
   "cell_type": "code",
   "execution_count": null,
   "id": "f6ffabea",
   "metadata": {},
   "outputs": [],
   "source": [
    "#plt.title(\"Histogram of prediction errors\\n\",fontsize=18)\n",
    "#plt.xlabel(\"Prediction error ($ha$)\",fontsize=14)\n",
    "#plt.grid(True)\n",
    "#plt.hist(10**(a.reshape(a.size,))-10**(y_test),bins=50)"
   ]
  },
  {
   "cell_type": "code",
   "execution_count": 22,
   "id": "26fb92e7",
   "metadata": {},
   "outputs": [],
   "source": [
    "rec_SVR=[]\n",
    "for i in range(tol_max):\n",
    "    rec_SVR.append(rec(a,y_test,i))\n",
    "\n",
    "#plt.figure(figsize=(5,5))\n",
    "#plt.title(\"REC curve for the Support Vector Regressor\\n\",fontsize=15)\n",
    "#plt.xlabel(\"Absolute error (tolerance) in prediction ($ha$)\")\n",
    "#plt.ylabel(\"Percentage of correct prediction\")\n",
    "#plt.xticks([i*5 for i in range(tol_max+1)])\n",
    "#plt.ylim(-10,100)\n",
    "#plt.yticks([i*20 for i in range(6)])\n",
    "#plt.grid(True)\n",
    "#plt.plot(range(tol_max),rec_SVR)"
   ]
  },
  {
   "cell_type": "markdown",
   "id": "28779f4c",
   "metadata": {},
   "source": [
    "### Método 2 - Decision Tree"
   ]
  },
  {
   "cell_type": "code",
   "execution_count": 58,
   "id": "f286ff6a",
   "metadata": {},
   "outputs": [
    {
     "data": {
      "text/html": [
       "<style>#sk-container-id-4 {color: black;background-color: white;}#sk-container-id-4 pre{padding: 0;}#sk-container-id-4 div.sk-toggleable {background-color: white;}#sk-container-id-4 label.sk-toggleable__label {cursor: pointer;display: block;width: 100%;margin-bottom: 0;padding: 0.3em;box-sizing: border-box;text-align: center;}#sk-container-id-4 label.sk-toggleable__label-arrow:before {content: \"▸\";float: left;margin-right: 0.25em;color: #696969;}#sk-container-id-4 label.sk-toggleable__label-arrow:hover:before {color: black;}#sk-container-id-4 div.sk-estimator:hover label.sk-toggleable__label-arrow:before {color: black;}#sk-container-id-4 div.sk-toggleable__content {max-height: 0;max-width: 0;overflow: hidden;text-align: left;background-color: #f0f8ff;}#sk-container-id-4 div.sk-toggleable__content pre {margin: 0.2em;color: black;border-radius: 0.25em;background-color: #f0f8ff;}#sk-container-id-4 input.sk-toggleable__control:checked~div.sk-toggleable__content {max-height: 200px;max-width: 100%;overflow: auto;}#sk-container-id-4 input.sk-toggleable__control:checked~label.sk-toggleable__label-arrow:before {content: \"▾\";}#sk-container-id-4 div.sk-estimator input.sk-toggleable__control:checked~label.sk-toggleable__label {background-color: #d4ebff;}#sk-container-id-4 div.sk-label input.sk-toggleable__control:checked~label.sk-toggleable__label {background-color: #d4ebff;}#sk-container-id-4 input.sk-hidden--visually {border: 0;clip: rect(1px 1px 1px 1px);clip: rect(1px, 1px, 1px, 1px);height: 1px;margin: -1px;overflow: hidden;padding: 0;position: absolute;width: 1px;}#sk-container-id-4 div.sk-estimator {font-family: monospace;background-color: #f0f8ff;border: 1px dotted black;border-radius: 0.25em;box-sizing: border-box;margin-bottom: 0.5em;}#sk-container-id-4 div.sk-estimator:hover {background-color: #d4ebff;}#sk-container-id-4 div.sk-parallel-item::after {content: \"\";width: 100%;border-bottom: 1px solid gray;flex-grow: 1;}#sk-container-id-4 div.sk-label:hover label.sk-toggleable__label {background-color: #d4ebff;}#sk-container-id-4 div.sk-serial::before {content: \"\";position: absolute;border-left: 1px solid gray;box-sizing: border-box;top: 0;bottom: 0;left: 50%;z-index: 0;}#sk-container-id-4 div.sk-serial {display: flex;flex-direction: column;align-items: center;background-color: white;padding-right: 0.2em;padding-left: 0.2em;position: relative;}#sk-container-id-4 div.sk-item {position: relative;z-index: 1;}#sk-container-id-4 div.sk-parallel {display: flex;align-items: stretch;justify-content: center;background-color: white;position: relative;}#sk-container-id-4 div.sk-item::before, #sk-container-id-4 div.sk-parallel-item::before {content: \"\";position: absolute;border-left: 1px solid gray;box-sizing: border-box;top: 0;bottom: 0;left: 50%;z-index: -1;}#sk-container-id-4 div.sk-parallel-item {display: flex;flex-direction: column;z-index: 1;position: relative;background-color: white;}#sk-container-id-4 div.sk-parallel-item:first-child::after {align-self: flex-end;width: 50%;}#sk-container-id-4 div.sk-parallel-item:last-child::after {align-self: flex-start;width: 50%;}#sk-container-id-4 div.sk-parallel-item:only-child::after {width: 0;}#sk-container-id-4 div.sk-dashed-wrapped {border: 1px dashed gray;margin: 0 0.4em 0.5em 0.4em;box-sizing: border-box;padding-bottom: 0.4em;background-color: white;}#sk-container-id-4 div.sk-label label {font-family: monospace;font-weight: bold;display: inline-block;line-height: 1.2em;}#sk-container-id-4 div.sk-label-container {text-align: center;}#sk-container-id-4 div.sk-container {/* jupyter's `normalize.less` sets `[hidden] { display: none; }` but bootstrap.min.css set `[hidden] { display: none !important; }` so we also need the `!important` here to be able to override the default hidden behavior on the sphinx rendered scikit-learn.org. See: https://github.com/scikit-learn/scikit-learn/issues/21755 */display: inline-block !important;position: relative;}#sk-container-id-4 div.sk-text-repr-fallback {display: none;}</style><div id=\"sk-container-id-4\" class=\"sk-top-container\"><div class=\"sk-text-repr-fallback\"><pre>DecisionTreeRegressor(criterion=&#x27;mae&#x27;, max_depth=10)</pre><b>In a Jupyter environment, please rerun this cell to show the HTML representation or trust the notebook. <br />On GitHub, the HTML representation is unable to render, please try loading this page with nbviewer.org.</b></div><div class=\"sk-container\" hidden><div class=\"sk-item\"><div class=\"sk-estimator sk-toggleable\"><input class=\"sk-toggleable__control sk-hidden--visually\" id=\"sk-estimator-id-8\" type=\"checkbox\" checked><label for=\"sk-estimator-id-8\" class=\"sk-toggleable__label sk-toggleable__label-arrow\">DecisionTreeRegressor</label><div class=\"sk-toggleable__content\"><pre>DecisionTreeRegressor(criterion=&#x27;mae&#x27;, max_depth=10)</pre></div></div></div></div></div>"
      ],
      "text/plain": [
       "DecisionTreeRegressor(criterion='mae', max_depth=10)"
      ]
     },
     "execution_count": 58,
     "metadata": {},
     "output_type": "execute_result"
    }
   ],
   "source": [
    "tree_model = DecisionTreeRegressor(max_depth=10,criterion='mae')\n",
    "tree_model.fit(scaler.fit_transform(X_train),scaler.fit_transform(y_train))"
   ]
  },
  {
   "cell_type": "code",
   "execution_count": 59,
   "id": "ff489500",
   "metadata": {},
   "outputs": [
    {
     "name": "stdout",
     "output_type": "stream",
     "text": [
      "RMSE for Decision Tree: 1.5110528055724926\n"
     ]
    }
   ],
   "source": [
    "a=tree_model.predict(X_test)\n",
    "RMSE_DT = np.sqrt(np.mean((y_test-a)**2))\n",
    "#print(\"RMSE for Decision Tree:\",np.sqrt(np.mean((y_test-a)**2)))\n",
    "print(\"RMSE for Decision Tree:\",RMSE_DT)"
   ]
  },
  {
   "cell_type": "code",
   "execution_count": 60,
   "id": "c81164f6",
   "metadata": {},
   "outputs": [],
   "source": [
    "#plt.xlabel(\"Actual area burned\")\n",
    "#plt.ylabel(\"Error\")\n",
    "#plt.grid(True)\n",
    "#plt.scatter(10**(y_test),10**(a)-10**(y_test))"
   ]
  },
  {
   "cell_type": "code",
   "execution_count": 61,
   "id": "a3ff0803",
   "metadata": {},
   "outputs": [],
   "source": [
    "#plt.title(\"Histogram of prediction errors\\n\",fontsize=18)\n",
    "#plt.xlabel(\"Prediction error ($ha$)\",fontsize=14)\n",
    "#plt.grid(True)\n",
    "#plt.hist(10**(a.reshape(a.size,))-10**(y_test),bins=50)"
   ]
  },
  {
   "cell_type": "code",
   "execution_count": 62,
   "id": "2321b491",
   "metadata": {},
   "outputs": [
    {
     "data": {
      "text/plain": [
       "[<matplotlib.lines.Line2D at 0x295b7d810a0>]"
      ]
     },
     "execution_count": 62,
     "metadata": {},
     "output_type": "execute_result"
    },
    {
     "data": {
      "image/png": "[encoded data removed]",
      "text/plain": [
       "<Figure size 500x500 with 1 Axes>"
      ]
     },
     "metadata": {},
     "output_type": "display_data"
    }
   ],
   "source": [
    "rec_DT=[]\n",
    "for i in range(tol_max):\n",
    "    rec_DT.append(rec(a,y_test,i))\n",
    "\n",
    "plt.figure(figsize=(5,5))\n",
    "plt.title(\"REC curve for the single Decision Tree\\n\",fontsize=15)\n",
    "plt.xlabel(\"Absolute error (tolerance) in prediction ($ha$)\")\n",
    "plt.ylabel(\"Percentage of correct prediction\")\n",
    "plt.xticks([i for i in range(0,tol_max+1,5)])\n",
    "plt.ylim(-10,100)\n",
    "plt.yticks([i*20 for i in range(6)])\n",
    "plt.grid(True)\n",
    "plt.plot(range(tol_max),rec_DT)"
   ]
  },
  {
   "cell_type": "markdown",
   "id": "96c2ad34",
   "metadata": {},
   "source": [
    "### Método 3 - Random Forest"
   ]
  },
  {
   "cell_type": "code",
   "execution_count": 63,
   "id": "740137a4",
   "metadata": {},
   "outputs": [],
   "source": [
    "from sklearn.ensemble import RandomForestRegressor"
   ]
  },
  {
   "cell_type": "code",
   "execution_count": 33,
   "id": "ae2583dc",
   "metadata": {},
   "outputs": [
    {
     "data": {
      "text/html": [
       "<style>#sk-container-id-3 {color: black;background-color: white;}#sk-container-id-3 pre{padding: 0;}#sk-container-id-3 div.sk-toggleable {background-color: white;}#sk-container-id-3 label.sk-toggleable__label {cursor: pointer;display: block;width: 100%;margin-bottom: 0;padding: 0.3em;box-sizing: border-box;text-align: center;}#sk-container-id-3 label.sk-toggleable__label-arrow:before {content: \"▸\";float: left;margin-right: 0.25em;color: #696969;}#sk-container-id-3 label.sk-toggleable__label-arrow:hover:before {color: black;}#sk-container-id-3 div.sk-estimator:hover label.sk-toggleable__label-arrow:before {color: black;}#sk-container-id-3 div.sk-toggleable__content {max-height: 0;max-width: 0;overflow: hidden;text-align: left;background-color: #f0f8ff;}#sk-container-id-3 div.sk-toggleable__content pre {margin: 0.2em;color: black;border-radius: 0.25em;background-color: #f0f8ff;}#sk-container-id-3 input.sk-toggleable__control:checked~div.sk-toggleable__content {max-height: 200px;max-width: 100%;overflow: auto;}#sk-container-id-3 input.sk-toggleable__control:checked~label.sk-toggleable__label-arrow:before {content: \"▾\";}#sk-container-id-3 div.sk-estimator input.sk-toggleable__control:checked~label.sk-toggleable__label {background-color: #d4ebff;}#sk-container-id-3 div.sk-label input.sk-toggleable__control:checked~label.sk-toggleable__label {background-color: #d4ebff;}#sk-container-id-3 input.sk-hidden--visually {border: 0;clip: rect(1px 1px 1px 1px);clip: rect(1px, 1px, 1px, 1px);height: 1px;margin: -1px;overflow: hidden;padding: 0;position: absolute;width: 1px;}#sk-container-id-3 div.sk-estimator {font-family: monospace;background-color: #f0f8ff;border: 1px dotted black;border-radius: 0.25em;box-sizing: border-box;margin-bottom: 0.5em;}#sk-container-id-3 div.sk-estimator:hover {background-color: #d4ebff;}#sk-container-id-3 div.sk-parallel-item::after {content: \"\";width: 100%;border-bottom: 1px solid gray;flex-grow: 1;}#sk-container-id-3 div.sk-label:hover label.sk-toggleable__label {background-color: #d4ebff;}#sk-container-id-3 div.sk-serial::before {content: \"\";position: absolute;border-left: 1px solid gray;box-sizing: border-box;top: 0;bottom: 0;left: 50%;z-index: 0;}#sk-container-id-3 div.sk-serial {display: flex;flex-direction: column;align-items: center;background-color: white;padding-right: 0.2em;padding-left: 0.2em;position: relative;}#sk-container-id-3 div.sk-item {position: relative;z-index: 1;}#sk-container-id-3 div.sk-parallel {display: flex;align-items: stretch;justify-content: center;background-color: white;position: relative;}#sk-container-id-3 div.sk-item::before, #sk-container-id-3 div.sk-parallel-item::before {content: \"\";position: absolute;border-left: 1px solid gray;box-sizing: border-box;top: 0;bottom: 0;left: 50%;z-index: -1;}#sk-container-id-3 div.sk-parallel-item {display: flex;flex-direction: column;z-index: 1;position: relative;background-color: white;}#sk-container-id-3 div.sk-parallel-item:first-child::after {align-self: flex-end;width: 50%;}#sk-container-id-3 div.sk-parallel-item:last-child::after {align-self: flex-start;width: 50%;}#sk-container-id-3 div.sk-parallel-item:only-child::after {width: 0;}#sk-container-id-3 div.sk-dashed-wrapped {border: 1px dashed gray;margin: 0 0.4em 0.5em 0.4em;box-sizing: border-box;padding-bottom: 0.4em;background-color: white;}#sk-container-id-3 div.sk-label label {font-family: monospace;font-weight: bold;display: inline-block;line-height: 1.2em;}#sk-container-id-3 div.sk-label-container {text-align: center;}#sk-container-id-3 div.sk-container {/* jupyter's `normalize.less` sets `[hidden] { display: none; }` but bootstrap.min.css set `[hidden] { display: none !important; }` so we also need the `!important` here to be able to override the default hidden behavior on the sphinx rendered scikit-learn.org. See: https://github.com/scikit-learn/scikit-learn/issues/21755 */display: inline-block !important;position: relative;}#sk-container-id-3 div.sk-text-repr-fallback {display: none;}</style><div id=\"sk-container-id-3\" class=\"sk-top-container\"><div class=\"sk-text-repr-fallback\"><pre>GridSearchCV(cv=5, estimator=RandomForestRegressor(),\n",
       "             param_grid={&#x27;max_depth&#x27;: [5, 10, 15, 20, 50],\n",
       "                         &#x27;max_leaf_nodes&#x27;: [2, 5, 10],\n",
       "                         &#x27;min_samples_leaf&#x27;: [2, 5, 10],\n",
       "                         &#x27;min_samples_split&#x27;: [2, 5, 10]})</pre><b>In a Jupyter environment, please rerun this cell to show the HTML representation or trust the notebook. <br />On GitHub, the HTML representation is unable to render, please try loading this page with nbviewer.org.</b></div><div class=\"sk-container\" hidden><div class=\"sk-item sk-dashed-wrapped\"><div class=\"sk-label-container\"><div class=\"sk-label sk-toggleable\"><input class=\"sk-toggleable__control sk-hidden--visually\" id=\"sk-estimator-id-5\" type=\"checkbox\" ><label for=\"sk-estimator-id-5\" class=\"sk-toggleable__label sk-toggleable__label-arrow\">GridSearchCV</label><div class=\"sk-toggleable__content\"><pre>GridSearchCV(cv=5, estimator=RandomForestRegressor(),\n",
       "             param_grid={&#x27;max_depth&#x27;: [5, 10, 15, 20, 50],\n",
       "                         &#x27;max_leaf_nodes&#x27;: [2, 5, 10],\n",
       "                         &#x27;min_samples_leaf&#x27;: [2, 5, 10],\n",
       "                         &#x27;min_samples_split&#x27;: [2, 5, 10]})</pre></div></div></div><div class=\"sk-parallel\"><div class=\"sk-parallel-item\"><div class=\"sk-item\"><div class=\"sk-label-container\"><div class=\"sk-label sk-toggleable\"><input class=\"sk-toggleable__control sk-hidden--visually\" id=\"sk-estimator-id-6\" type=\"checkbox\" ><label for=\"sk-estimator-id-6\" class=\"sk-toggleable__label sk-toggleable__label-arrow\">estimator: RandomForestRegressor</label><div class=\"sk-toggleable__content\"><pre>RandomForestRegressor()</pre></div></div></div><div class=\"sk-serial\"><div class=\"sk-item\"><div class=\"sk-estimator sk-toggleable\"><input class=\"sk-toggleable__control sk-hidden--visually\" id=\"sk-estimator-id-7\" type=\"checkbox\" ><label for=\"sk-estimator-id-7\" class=\"sk-toggleable__label sk-toggleable__label-arrow\">RandomForestRegressor</label><div class=\"sk-toggleable__content\"><pre>RandomForestRegressor()</pre></div></div></div></div></div></div></div></div></div></div>"
      ],
      "text/plain": [
       "GridSearchCV(cv=5, estimator=RandomForestRegressor(),\n",
       "             param_grid={'max_depth': [5, 10, 15, 20, 50],\n",
       "                         'max_leaf_nodes': [2, 5, 10],\n",
       "                         'min_samples_leaf': [2, 5, 10],\n",
       "                         'min_samples_split': [2, 5, 10]})"
      ]
     },
     "execution_count": 33,
     "metadata": {},
     "output_type": "execute_result"
    }
   ],
   "source": [
    "param_grid = {'max_depth': [5,10,15,20,50], 'max_leaf_nodes': [2,5,10], 'min_samples_leaf': [2,5,10],\n",
    "             'min_samples_split':[2,5,10]}\n",
    "grid_RF = GridSearchCV(RandomForestRegressor(),param_grid,refit=True,verbose=0,cv=5)\n",
    "grid_RF.fit(X_train,y_train)"
   ]
  },
  {
   "cell_type": "code",
   "execution_count": 34,
   "id": "febf33dd",
   "metadata": {},
   "outputs": [
    {
     "name": "stdout",
     "output_type": "stream",
     "text": [
      "Best parameters obtained by Grid Search: {'max_depth': 20, 'max_leaf_nodes': 2, 'min_samples_leaf': 10, 'min_samples_split': 5}\n"
     ]
    }
   ],
   "source": [
    "print(\"Best parameters obtained by Grid Search:\",grid_RF.best_params_)"
   ]
  },
  {
   "cell_type": "code",
   "execution_count": 49,
   "id": "40a3394b",
   "metadata": {},
   "outputs": [
    {
     "name": "stdout",
     "output_type": "stream",
     "text": [
      "RMSE for Random Forest: 0.5967442406216151\n"
     ]
    }
   ],
   "source": [
    "a=grid_RF.predict(X_test)\n",
    "RMSE_RF=np.sqrt(np.mean((y_test-a)**2))\n",
    "print(\"RMSE for Random Forest:\",RMSE_RF)"
   ]
  },
  {
   "cell_type": "code",
   "execution_count": 36,
   "id": "90ce9574",
   "metadata": {},
   "outputs": [],
   "source": [
    "#plt.xlabel(\"Actual area burned\")\n",
    "#plt.ylabel(\"Error\")\n",
    "#plt.grid(True)\n",
    "#plt.scatter(10**(y_test),10**(a)-10**(y_test))"
   ]
  },
  {
   "cell_type": "code",
   "execution_count": 37,
   "id": "5cdeb4dd",
   "metadata": {},
   "outputs": [],
   "source": [
    "#plt.title(\"Histogram of prediction errors\\n\",fontsize=18)\n",
    "#plt.xlabel(\"Prediction error ($ha$)\",fontsize=14)\n",
    "#plt.grid(True)\n",
    "#plt.hist(10**(a.reshape(a.size,))-10**(y_test),bins=50)"
   ]
  },
  {
   "cell_type": "code",
   "execution_count": 38,
   "id": "abde1846",
   "metadata": {},
   "outputs": [
    {
     "data": {
      "text/plain": [
       "[<matplotlib.lines.Line2D at 0x295abf48d00>]"
      ]
     },
     "execution_count": 38,
     "metadata": {},
     "output_type": "execute_result"
    },
    {
     "data": {
      "image/png": "[encoded data removed]",
      "text/plain": [
       "<Figure size 500x500 with 1 Axes>"
      ]
     },
     "metadata": {},
     "output_type": "display_data"
    }
   ],
   "source": [
    "rec_RF=[]\n",
    "for i in range(tol_max):\n",
    "    rec_RF.append(rec(a,y_test,i))\n",
    "\n",
    "plt.figure(figsize=(5,5))\n",
    "plt.title(\"REC curve for the Random Forest\\n\",fontsize=15)\n",
    "plt.xlabel(\"Absolute error (tolerance) in prediction ($ha$)\")\n",
    "plt.ylabel(\"Percentage of correct prediction\")\n",
    "plt.xticks([i for i in range(0,tol_max+1,5)])\n",
    "plt.ylim(-10,100)\n",
    "plt.yticks([i*20 for i in range(6)])\n",
    "plt.grid(True)\n",
    "plt.plot(range(tol_max),rec_RF)"
   ]
  },
  {
   "cell_type": "markdown",
   "id": "a97de419",
   "metadata": {},
   "source": [
    "### Método 4 - Layer Dense Neural Network - Deep network ( Keras (TensorFlow))"
   ]
  },
  {
   "cell_type": "code",
   "execution_count": 39,
   "id": "09d3a73f",
   "metadata": {},
   "outputs": [],
   "source": [
    "from keras.models import Sequential\n",
    "import keras.optimizers as opti\n",
    "from keras.layers import Dense, Activation,Dropout"
   ]
  },
  {
   "cell_type": "code",
   "execution_count": 40,
   "id": "08183813",
   "metadata": {},
   "outputs": [
    {
     "name": "stdout",
     "output_type": "stream",
     "text": [
      "Model: \"sequential\"\n",
      "_________________________________________________________________\n",
      " Layer (type)                Output Shape              Param #   \n",
      "=================================================================\n",
      " dense (Dense)               (None, 100)               1300      \n",
      "                                                                 \n",
      " activation (Activation)     (None, 100)               0         \n",
      "                                                                 \n",
      " dropout (Dropout)           (None, 100)               0         \n",
      "                                                                 \n",
      " dense_1 (Dense)             (None, 100)               10100     \n",
      "                                                                 \n",
      " dropout_1 (Dropout)         (None, 100)               0         \n",
      "                                                                 \n",
      " activation_1 (Activation)   (None, 100)               0         \n",
      "                                                                 \n",
      " dense_2 (Dense)             (None, 50)                5050      \n",
      "                                                                 \n",
      " activation_2 (Activation)   (None, 50)                0         \n",
      "                                                                 \n",
      " dense_3 (Dense)             (None, 1)                 51        \n",
      "                                                                 \n",
      "=================================================================\n",
      "Total params: 16,501\n",
      "Trainable params: 16,501\n",
      "Non-trainable params: 0\n",
      "_________________________________________________________________\n"
     ]
    }
   ],
   "source": [
    "# layers - camadas\n",
    "model = Sequential()\n",
    "model.add(Dense(100, input_dim=12))\n",
    "model.add(Activation('selu'))\n",
    "model.add(Dropout(0.3))\n",
    "model.add(Dense(100))\n",
    "model.add(Dropout(0.3))\n",
    "model.add(Activation('selu'))\n",
    "model.add(Dense(50))\n",
    "model.add(Activation('elu'))\n",
    "model.add(Dense(1))\n",
    "model.summary()"
   ]
  },
  {
   "cell_type": "code",
   "execution_count": 41,
   "id": "8a08338d",
   "metadata": {},
   "outputs": [],
   "source": [
    "# taxa de aprendizado e otimização\n",
    "learning_rate=0.001\n",
    "optimizer = opti.RMSprop(lr=learning_rate)\n",
    "model.compile(optimizer=optimizer,loss='mse')"
   ]
  },
  {
   "cell_type": "code",
   "execution_count": 42,
   "id": "567e9e5a",
   "metadata": {},
   "outputs": [
    {
     "data": {
      "text/plain": [
       "<keras.callbacks.History at 0x295b48defa0>"
      ]
     },
     "execution_count": 42,
     "metadata": {},
     "output_type": "execute_result"
    }
   ],
   "source": [
    "#### Input data and mode fitting\n",
    "data=X_train\n",
    "target = y_train\n",
    "model.fit(data, target, epochs=100, batch_size=10,verbose=0)"
   ]
  },
  {
   "cell_type": "code",
   "execution_count": 43,
   "id": "722c1b2d",
   "metadata": {},
   "outputs": [
    {
     "name": "stdout",
     "output_type": "stream",
     "text": [
      "7/7 [==============================] - 0s 3ms/step\n",
      "RMSE for Deep Network: 0.5941897624721414\n"
     ]
    }
   ],
   "source": [
    "#### Prediction and RMSE\n",
    "a=model.predict(X_test)\n",
    "RMSE_LDNN = np.sqrt(np.mean((y_test-a.reshape(a.size,))**2))\n",
    "#print(\"RMSE for Deep Network:\",np.sqrt(np.mean((y_test-a.reshape(a.size,))**2)))\n",
    "print(\"RMSE for Deep Network:\",RMSE_LDNN)"
   ]
  },
  {
   "cell_type": "code",
   "execution_count": 44,
   "id": "85dacea8",
   "metadata": {},
   "outputs": [],
   "source": [
    "#plt.xlabel(\"Actual area burned\")\n",
    "#plt.ylabel(\"Error\")\n",
    "#plt.grid(True)\n",
    "#plt.scatter(10**(y_test),10**(a.reshape(a.size,))-10**(y_test))"
   ]
  },
  {
   "cell_type": "code",
   "execution_count": 45,
   "id": "4b06c20c",
   "metadata": {},
   "outputs": [],
   "source": [
    "#plt.title(\"Histogram of prediction errors\\n\",fontsize=18)\n",
    "#plt.xlabel(\"Prediction error ($ha$)\",fontsize=14)\n",
    "#plt.grid(True)\n",
    "#plt.hist(10**(a.reshape(a.size,))-10**(y_test),bins=50)"
   ]
  },
  {
   "cell_type": "code",
   "execution_count": 46,
   "id": "7031b8a2",
   "metadata": {},
   "outputs": [
    {
     "data": {
      "text/plain": [
       "[<matplotlib.lines.Line2D at 0x295b6bce820>]"
      ]
     },
     "execution_count": 46,
     "metadata": {},
     "output_type": "execute_result"
    },
    {
     "data": {
      "image/png": "[encoded data removed]",
      "text/plain": [
       "<Figure size 500x500 with 1 Axes>"
      ]
     },
     "metadata": {},
     "output_type": "display_data"
    }
   ],
   "source": [
    "rec_NN=[]\n",
    "for i in range(tol_max):\n",
    "    rec_NN.append(rec(a,y_test,i))\n",
    "\n",
    "plt.figure(figsize=(5,5))\n",
    "plt.title(\"REC curve for the Deep Network\\n\",fontsize=15)\n",
    "plt.xlabel(\"Absolute error (tolerance) in prediction ($ha$)\")\n",
    "plt.ylabel(\"Percentage of correct prediction\")\n",
    "plt.xticks([i for i in range(0,tol_max+1,5)])\n",
    "plt.ylim(-10,100)\n",
    "plt.yticks([i*20 for i in range(6)])\n",
    "plt.grid(True)\n",
    "plt.plot(range(tol_max),rec_NN)"
   ]
  },
  {
   "cell_type": "markdown",
   "id": "17521212",
   "metadata": {},
   "source": [
    "## Performance relativa dos quatro modelos (curvas REC)"
   ]
  },
  {
   "cell_type": "code",
   "execution_count": 64,
   "id": "568cc18c",
   "metadata": {},
   "outputs": [],
   "source": [
    "Ranking_ForrestFire = pd.DataFrame()\n",
    "index_RFF = ['RMSE']\n",
    "Ranking_ForrestFire  = pd.DataFrame(index=index_RFF)\n",
    "Ranking_ForrestFire  ['Support Vector Regression'] = RMSE_SVR\n",
    "Ranking_ForrestFire  ['Decision Tree'] = RMSE_DT\n",
    "Ranking_ForrestFire  ['Random Forest'] = RMSE_RF\n",
    "Ranking_ForrestFire  ['Deep Network'] = RMSE_LDNN"
   ]
  },
  {
   "cell_type": "code",
   "execution_count": 65,
   "id": "2548fff0",
   "metadata": {},
   "outputs": [
    {
     "data": {
      "text/html": [
       "<div>\n",
       "<style scoped>\n",
       "    .dataframe tbody tr th:only-of-type {\n",
       "        vertical-align: middle;\n",
       "    }\n",
       "\n",
       "    .dataframe tbody tr th {\n",
       "        vertical-align: top;\n",
       "    }\n",
       "\n",
       "    .dataframe thead th {\n",
       "        text-align: right;\n",
       "    }\n",
       "</style>\n",
       "<table border=\"1\" class=\"dataframe\">\n",
       "  <thead>\n",
       "    <tr style=\"text-align: right;\">\n",
       "      <th></th>\n",
       "      <th>Support Vector Regression</th>\n",
       "      <th>Decision Tree</th>\n",
       "      <th>Random Forest</th>\n",
       "      <th>Deep Network</th>\n",
       "    </tr>\n",
       "  </thead>\n",
       "  <tbody>\n",
       "    <tr>\n",
       "      <th>RMSE</th>\n",
       "      <td>0.644259</td>\n",
       "      <td>1.511053</td>\n",
       "      <td>0.596744</td>\n",
       "      <td>0.59419</td>\n",
       "    </tr>\n",
       "  </tbody>\n",
       "</table>\n",
       "</div>"
      ],
      "text/plain": [
       "      Support Vector Regression  Decision Tree  Random Forest  Deep Network\n",
       "RMSE                   0.644259       1.511053       0.596744       0.59419"
      ]
     },
     "execution_count": 65,
     "metadata": {},
     "output_type": "execute_result"
    },
    {
     "data": {
      "image/png": "[encoded data removed]",
      "text/plain": [
       "<Figure size 500x400 with 1 Axes>"
      ]
     },
     "metadata": {},
     "output_type": "display_data"
    }
   ],
   "source": [
    "plt.figure(figsize=(5,4))\n",
    "plt.title(\"Curvas REC\\n\",fontsize=20)\n",
    "plt.xlabel(\"Erro Absoluto (tolerancia) na predição ($ha$)\",fontsize=15)\n",
    "plt.ylabel(\"Porcentagem da predição correta \",fontsize=15)\n",
    "plt.xticks([i for i in range(0,tol_max+1,1)],fontsize=13)\n",
    "plt.ylim(-10,100)\n",
    "plt.xlim(-2,tol_max)\n",
    "plt.yticks([i*20 for i in range(6)],fontsize=18)\n",
    "plt.grid(True)\n",
    "plt.plot(range(tol_max),rec_SVR,'--',lw=3)\n",
    "plt.plot(range(tol_max),rec_DT,'*-',lw=3)\n",
    "plt.plot(range(tol_max),rec_RF,'o-',lw=3)\n",
    "plt.plot(range(tol_max),rec_NN,'k-',lw=3)\n",
    "plt.legend(['SVR','Decision Tree','Random Forest','Deep NN'],fontsize=13)\n",
    "Ranking_ForrestFire "
   ]
  }
 ],
 "metadata": {
  "kernelspec": {
   "display_name": "Python 3 (ipykernel)",
   "language": "python",
   "name": "python3"
  },
  "language_info": {
   "codemirror_mode": {
    "name": "ipython",
    "version": 3
   },
   "file_extension": ".py",
   "mimetype": "text/x-python",
   "name": "python",
   "nbconvert_exporter": "python",
   "pygments_lexer": "ipython3",
   "version": "3.9.12"
  }
 },
 "nbformat": 4,
 "nbformat_minor": 5
}
